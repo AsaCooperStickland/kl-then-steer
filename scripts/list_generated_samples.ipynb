{
 "cells": [
  {
   "cell_type": "code",
   "execution_count": 1,
   "metadata": {},
   "outputs": [],
   "source": [
    "import pandas as pd\n",
    "\n",
    "file_path = '/scratch/al6759/lat/results/samples/samples_2023-12-28_17:19.csv'\n",
    "df = pd.read_csv(file_path)"
   ]
  },
  {
   "cell_type": "code",
   "execution_count": 2,
   "metadata": {},
   "outputs": [],
   "source": [
    "# Grouping the dataframe by 'input' and collecting all corresponding values of other columns\n",
    "grouped_df = df.groupby('input').apply(lambda x: x[['step', 'steering_mode', 'sample_i', 'generation']].to_dict('records'))\n",
    "\n",
    "# Converting the grouped data into a readable format\n",
    "output = grouped_df.to_dict()"
   ]
  },
  {
   "cell_type": "code",
   "execution_count": null,
   "metadata": {},
   "outputs": [],
   "source": [
    "# Processing the dataframe to organize the output as requested\n",
    "\n",
    "# Create a dictionary to hold the processed data\n",
    "processed_data = {}\n",
    "\n",
    "# Loop through each group and process the data\n",
    "for input_text, group in df.groupby('input'):\n",
    "    processed_data[input_text] = {}\n",
    "    for step, step_group in group.groupby('step'):\n",
    "        processed_data[input_text][step] = {}\n",
    "        for steering_mode, steering_group in step_group.groupby('steering_mode'):\n",
    "            processed_data[input_text][step][steering_mode] = {}\n",
    "            for sample_i, final_group in steering_group.groupby('sample_i'):\n",
    "                generations = final_group['generation'].tolist()\n",
    "                processed_data[input_text][step][steering_mode][sample_i] = generations"
   ]
  },
  {
   "cell_type": "code",
   "execution_count": null,
   "metadata": {},
   "outputs": [],
   "source": []
  },
  {
   "cell_type": "code",
   "execution_count": 3,
   "metadata": {},
   "outputs": [],
   "source": [
    "cur_input = list(output.keys())[1]  # from train\n",
    "cur_input = list(output.keys())[4]  # from test\n",
    "print(cur_input)"
   ]
  },
  {
   "cell_type": "code",
   "execution_count": 1,
   "metadata": {},
   "outputs": [],
   "source": [
    "processed_data[cur_input]"
   ]
  },
  {
   "cell_type": "code",
   "execution_count": null,
   "metadata": {},
   "outputs": [],
   "source": []
  }
 ],
 "metadata": {
  "kernelspec": {
   "display_name": "lat",
   "language": "python",
   "name": "python3"
  },
  "language_info": {
   "codemirror_mode": {
    "name": "ipython",
    "version": 3
   },
   "file_extension": ".py",
   "mimetype": "text/x-python",
   "name": "python",
   "nbconvert_exporter": "python",
   "pygments_lexer": "ipython3",
   "version": "3.10.12"
  },
  "orig_nbformat": 4
 },
 "nbformat": 4,
 "nbformat_minor": 2
}
